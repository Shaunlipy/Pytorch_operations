{
  "nbformat": 4,
  "nbformat_minor": 0,
  "metadata": {
    "colab": {
      "name": "Pytorch Einsum Einops.ipynb",
      "provenance": [],
      "authorship_tag": "ABX9TyPRSukQKlUc/UKJW4H1eqrP",
      "include_colab_link": true
    },
    "kernelspec": {
      "name": "python3",
      "display_name": "Python 3"
    },
    "language_info": {
      "name": "python"
    }
  },
  "cells": [
    {
      "cell_type": "markdown",
      "metadata": {
        "id": "view-in-github",
        "colab_type": "text"
      },
      "source": [
        "<a href=\"https://colab.research.google.com/github/Shaunlipy/Pytorch_operations/blob/main/Pytorch_Einsum_Einops.ipynb\" target=\"_parent\"><img src=\"https://colab.research.google.com/assets/colab-badge.svg\" alt=\"Open In Colab\"/></a>"
      ]
    },
    {
      "cell_type": "code",
      "metadata": {
        "colab": {
          "base_uri": "https://localhost:8080/"
        },
        "id": "GCA-uyGVxif6",
        "outputId": "59a19d8e-cdd6-422c-8db6-5564b897fb87"
      },
      "source": [
        "import torch\n",
        "import numpy as np\n",
        "print(torch.__version__)"
      ],
      "execution_count": null,
      "outputs": [
        {
          "output_type": "stream",
          "text": [
            "1.8.1+cu101\n"
          ],
          "name": "stdout"
        }
      ]
    },
    {
      "cell_type": "code",
      "metadata": {
        "colab": {
          "base_uri": "https://localhost:8080/"
        },
        "id": "I1fkgTYexx7Z",
        "outputId": "d1620739-1ef3-4e3e-854f-c35fadeda88e"
      },
      "source": [
        "# 1\n",
        "a = torch.rand(2, 3)\n",
        "b = torch.rand(3, 4)\n",
        "c = torch.einsum('ik,kj -> ij', [a, b])\n",
        "d = torch.mm(a, b) # c equivalent to d\n",
        "print(c)\n",
        "print(d)"
      ],
      "execution_count": null,
      "outputs": [
        {
          "output_type": "stream",
          "text": [
            "tensor([[0.6971, 0.7975, 0.5028, 0.4894],\n",
            "        [0.5703, 0.5612, 0.1938, 0.4922]])\n",
            "tensor([[0.6971, 0.7975, 0.5028, 0.4894],\n",
            "        [0.5703, 0.5612, 0.1938, 0.4922]])\n"
          ],
          "name": "stdout"
        }
      ]
    },
    {
      "cell_type": "code",
      "metadata": {
        "colab": {
          "base_uri": "https://localhost:8080/"
        },
        "id": "2NhZJZxKyCPu",
        "outputId": "d3bcfba0-8065-498c-db2f-088dc5f8c89c"
      },
      "source": [
        "# 2\n",
        "a = torch.randn(2, 3, 5, 7, 9)\n",
        "# i = 7, j = 9\n",
        "b = torch.einsum('...ij -> ...ji', [a])\n",
        "c = a.permute(0, 1, 2, 4, 3)\n",
        "print(b.shape)\n",
        "print(c.shape)"
      ],
      "execution_count": null,
      "outputs": [
        {
          "output_type": "stream",
          "text": [
            "torch.Size([2, 3, 5, 9, 7])\n",
            "torch.Size([2, 3, 5, 9, 7])\n"
          ],
          "name": "stdout"
        }
      ]
    },
    {
      "cell_type": "code",
      "metadata": {
        "colab": {
          "base_uri": "https://localhost:8080/"
        },
        "id": "V-xeRu-dyZz5",
        "outputId": "172ccaa1-6c36-49fa-9bb7-08ca9106a1c9"
      },
      "source": [
        "# 3\n",
        "a = torch.arange(9).reshape(3, 3)\n",
        "\n",
        "b = torch.einsum('ii -> i', [a])\n",
        "c = torch.diagonal(a, 0)\n",
        "\n",
        "print(b)\n",
        "print(c)"
      ],
      "execution_count": null,
      "outputs": [
        {
          "output_type": "stream",
          "text": [
            "tensor([0, 4, 8])\n",
            "tensor([0, 4, 8])\n"
          ],
          "name": "stdout"
        }
      ]
    },
    {
      "cell_type": "code",
      "metadata": {
        "colab": {
          "base_uri": "https://localhost:8080/"
        },
        "id": "rgNvj7mxzLW5",
        "outputId": "a817acea-c5fc-4336-f538-d95076cf7817"
      },
      "source": [
        "# 4\n",
        "a = torch.arange(6).reshape(2, 3)\n",
        "\n",
        "b = torch.einsum('ij -> ji', [a])\n",
        "c = torch.transpose(a, 0, 1)\n",
        "\n",
        "print(b)\n",
        "print(c)"
      ],
      "execution_count": null,
      "outputs": [
        {
          "output_type": "stream",
          "text": [
            "tensor([[0, 3],\n",
            "        [1, 4],\n",
            "        [2, 5]])\n",
            "tensor([[0, 3],\n",
            "        [1, 4],\n",
            "        [2, 5]])\n"
          ],
          "name": "stdout"
        }
      ]
    },
    {
      "cell_type": "code",
      "metadata": {
        "colab": {
          "base_uri": "https://localhost:8080/"
        },
        "id": "pM2F8PgSz4hX",
        "outputId": "442c0aa6-0f72-47de-b29a-cf53e8ab8562"
      },
      "source": [
        "# 5 \n",
        "a = torch.arange(6).reshape(2, 3)\n",
        "\n",
        "b = torch.einsum('ij ->', [a])\n",
        "c = torch.sum(a)\n",
        "\n",
        "print(b)\n",
        "print(c)"
      ],
      "execution_count": null,
      "outputs": [
        {
          "output_type": "stream",
          "text": [
            "tensor(15)\n",
            "tensor(15)\n"
          ],
          "name": "stdout"
        }
      ]
    },
    {
      "cell_type": "code",
      "metadata": {
        "colab": {
          "base_uri": "https://localhost:8080/"
        },
        "id": "V06KLFw91Ewp",
        "outputId": "c66a300f-32e8-43ce-9cb0-e205404bde62"
      },
      "source": [
        "# 6\n",
        "a = torch.arange(6).reshape(2, 3)\n",
        "\n",
        "b = torch.einsum('ij ->j', [a])\n",
        "c = torch.sum(a, dim=0)\n",
        "\n",
        "print(b)\n",
        "print(c)"
      ],
      "execution_count": null,
      "outputs": [
        {
          "output_type": "stream",
          "text": [
            "tensor([3, 5, 7])\n",
            "tensor([3, 5, 7])\n"
          ],
          "name": "stdout"
        }
      ]
    },
    {
      "cell_type": "code",
      "metadata": {
        "colab": {
          "base_uri": "https://localhost:8080/"
        },
        "id": "9AV31uit26G6",
        "outputId": "5834e225-27a1-44b0-bb8e-7217b90003ef"
      },
      "source": [
        "# 7\n",
        "a = torch.arange(6).reshape(2, 3)\n",
        "b = torch.arange(3)\n",
        "\n",
        "c = torch.einsum('ik,k -> i', [a, b])\n",
        "d = torch.mv(a, b)\n",
        "e = torch.einsum('ik,k', [a, b])\n",
        "\n",
        "print(c)\n",
        "print(d)\n",
        "print(e)"
      ],
      "execution_count": null,
      "outputs": [
        {
          "output_type": "stream",
          "text": [
            "tensor([ 5, 14])\n",
            "tensor([ 5, 14])\n",
            "tensor([ 5, 14])\n"
          ],
          "name": "stdout"
        }
      ]
    },
    {
      "cell_type": "code",
      "metadata": {
        "colab": {
          "base_uri": "https://localhost:8080/"
        },
        "id": "LswDwlgd3OSU",
        "outputId": "9083a4c4-9877-44b6-b9f5-9d57ce37cc8e"
      },
      "source": [
        "# 8 \n",
        "a = torch.arange(6).reshape(2, 3)\n",
        "b = torch.arange(15).reshape(3, 5)\n",
        "\n",
        "c = torch.einsum('ik,kj->ij', [a, b])\n",
        "d = torch.mm(a,b)\n",
        "e = torch.einsum('ik,kj', [a, b])\n",
        "\n",
        "print(c)\n",
        "print(d)\n",
        "print(e)"
      ],
      "execution_count": null,
      "outputs": [
        {
          "output_type": "stream",
          "text": [
            "tensor([[ 25,  28,  31,  34,  37],\n",
            "        [ 70,  82,  94, 106, 118]])\n",
            "tensor([[ 25,  28,  31,  34,  37],\n",
            "        [ 70,  82,  94, 106, 118]])\n",
            "tensor([[ 25,  28,  31,  34,  37],\n",
            "        [ 70,  82,  94, 106, 118]])\n"
          ],
          "name": "stdout"
        }
      ]
    },
    {
      "cell_type": "code",
      "metadata": {
        "colab": {
          "base_uri": "https://localhost:8080/"
        },
        "id": "lRTcHuxH47z4",
        "outputId": "4e622e95-21e5-4e82-bed6-d99165a7a831"
      },
      "source": [
        "# 9\n",
        "a = torch.arange(3)\n",
        "b = torch.arange(3, 6)\n",
        "\n",
        "c = torch.einsum('i,i ->', [a, b])\n",
        "d = torch.einsum('i,i', [a, b])\n",
        "e = torch.dot(a, b)\n",
        "\n",
        "print(c)\n",
        "print(d)\n",
        "print(e)"
      ],
      "execution_count": null,
      "outputs": [
        {
          "output_type": "stream",
          "text": [
            "tensor(14)\n",
            "tensor(14)\n",
            "tensor(14)\n"
          ],
          "name": "stdout"
        }
      ]
    },
    {
      "cell_type": "code",
      "metadata": {
        "colab": {
          "base_uri": "https://localhost:8080/"
        },
        "id": "_iYyz-NK9R8o",
        "outputId": "659e53b1-7814-491f-a0e1-80c1223170fe"
      },
      "source": [
        "# 10\n",
        "a = torch.arange(6).reshape(2, 3)\n",
        "b = torch.arange(6, 12).reshape(2, 3)\n",
        "\n",
        "c = torch.einsum('ij,ij->', [a,b])\n",
        "d = torch.einsum('ij, ij', [a, b])\n",
        "e = (a * b).sum()\n",
        "\n",
        "print(c)\n",
        "print(d)\n",
        "print(e)"
      ],
      "execution_count": null,
      "outputs": [
        {
          "output_type": "stream",
          "text": [
            "tensor(145)\n",
            "tensor(145)\n",
            "tensor(145)\n"
          ],
          "name": "stdout"
        }
      ]
    },
    {
      "cell_type": "code",
      "metadata": {
        "colab": {
          "base_uri": "https://localhost:8080/"
        },
        "id": "w2xf1vWr_iO0",
        "outputId": "08cd1d2f-36d5-4dbe-94f1-bcfb865c9430"
      },
      "source": [
        "# 11\n",
        "a = torch.arange(3)\n",
        "b = torch.arange(3, 7)\n",
        "\n",
        "c = torch.einsum('i,j->ij', [a,b])\n",
        "d = torch.einsum('i,j', [a, b])\n",
        "e = torch.outer(a, b)\n",
        "\n",
        "print(c)\n",
        "print(d)\n",
        "print(e)"
      ],
      "execution_count": null,
      "outputs": [
        {
          "output_type": "stream",
          "text": [
            "tensor([[ 0,  0,  0,  0],\n",
            "        [ 3,  4,  5,  6],\n",
            "        [ 6,  8, 10, 12]])\n",
            "tensor([[ 0,  0,  0,  0],\n",
            "        [ 3,  4,  5,  6],\n",
            "        [ 6,  8, 10, 12]])\n",
            "tensor([[ 0,  0,  0,  0],\n",
            "        [ 3,  4,  5,  6],\n",
            "        [ 6,  8, 10, 12]])\n"
          ],
          "name": "stdout"
        }
      ]
    },
    {
      "cell_type": "code",
      "metadata": {
        "colab": {
          "base_uri": "https://localhost:8080/"
        },
        "id": "zXGbRix1A65Z",
        "outputId": "9e964635-ff79-4e39-a989-dc2fea855d84"
      },
      "source": [
        "# 12\n",
        "a = torch.randn(2, 3, 5)\n",
        "b = torch.randn(2, 5, 4)\n",
        "\n",
        "c = torch.einsum('ijk,ikl -> ijl', [a, b])\n",
        "d = torch.bmm(a, b)\n",
        "\n",
        "print((c==d).all())"
      ],
      "execution_count": null,
      "outputs": [
        {
          "output_type": "stream",
          "text": [
            "tensor(True)\n"
          ],
          "name": "stdout"
        }
      ]
    },
    {
      "cell_type": "code",
      "metadata": {
        "colab": {
          "base_uri": "https://localhost:8080/"
        },
        "id": "5DgCGaT1BUZi",
        "outputId": "5b9f3093-c2ec-47b1-88df-037a3b8e8169"
      },
      "source": [
        "# 13\n",
        "a = torch.randn(2, 3, 5, 7)\n",
        "b = torch.randn(11, 13, 3, 17, 5)\n",
        "\n",
        "c = torch.einsum('pqrs,tuqvr -> pstuv', [a, b])\n",
        "d = torch.tensordot(a, b, dims=([1, 2], [2, 4]))\n",
        "\n",
        "print((c==d).all())"
      ],
      "execution_count": null,
      "outputs": [
        {
          "output_type": "stream",
          "text": [
            "tensor(True)\n"
          ],
          "name": "stdout"
        }
      ]
    },
    {
      "cell_type": "code",
      "metadata": {
        "colab": {
          "base_uri": "https://localhost:8080/"
        },
        "id": "c180U8JADPJD",
        "outputId": "7e8e80f2-f3c3-43b7-b31e-7d5976ab04da"
      },
      "source": [
        "# 14\n",
        "a = torch.randn(2, 3)\n",
        "b = torch.randn(5, 3, 7)\n",
        "c = torch.randn(2, 7)\n",
        "\n",
        "d = torch.einsum('ik, jkl, il -> ij', [a, b, c])\n",
        "_m = torch.nn.Bilinear(3, 7, 5, bias=False)\n",
        "_m.weight.data = b\n",
        "e = _m(a, c).detach()\n",
        "\n",
        "print(d.shape)\n",
        "print((d==e).all())"
      ],
      "execution_count": null,
      "outputs": [
        {
          "output_type": "stream",
          "text": [
            "torch.Size([2, 5])\n",
            "tensor(True)\n"
          ],
          "name": "stdout"
        }
      ]
    },
    {
      "cell_type": "code",
      "metadata": {
        "id": "ZI0VLnHoD9Rd"
      },
      "source": [
        "# EinOPS"
      ],
      "execution_count": 1,
      "outputs": []
    },
    {
      "cell_type": "code",
      "metadata": {
        "id": "kRJYX_fH6ZQX"
      },
      "source": [
        ""
      ],
      "execution_count": null,
      "outputs": []
    }
  ]
}